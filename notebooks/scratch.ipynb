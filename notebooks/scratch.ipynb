{
 "cells": [
  {
   "cell_type": "code",
   "execution_count": 1,
   "metadata": {},
   "outputs": [],
   "source": [
    "import numpy as np"
   ]
  },
  {
   "cell_type": "code",
   "execution_count": 2,
   "metadata": {},
   "outputs": [
    {
     "name": "stdout",
     "output_type": "stream",
     "text": [
      "tensorflow==2.8.0\n",
      "tensorflow-datasets==4.6.0\n",
      "tensorflow-estimator==2.10.0\n",
      "tensorflow-io-gcs-filesystem==0.27.0\n",
      "tensorflow-macos==2.8.0\n",
      "tensorflow-metadata==1.10.0\n",
      "Note: you may need to restart the kernel to use updated packages.\n"
     ]
    }
   ],
   "source": [
    "pip freeze | grep tensorflow"
   ]
  },
  {
   "cell_type": "code",
   "execution_count": null,
   "metadata": {},
   "outputs": [
    {
     "ename": "",
     "evalue": "",
     "output_type": "error",
     "traceback": [
      "\u001b[1;31mCanceled future for execute_request message before replies were done"
     ]
    },
    {
     "ename": "",
     "evalue": "",
     "output_type": "error",
     "traceback": [
      "\u001b[1;31mThe Kernel crashed while executing code in the the current cell or a previous cell. Please review the code in the cell(s) to identify a possible cause of the failure. Click <a href='https://aka.ms/vscodeJupyterKernelCrash'>here</a> for more info. View Jupyter <a href='command:jupyter.viewOutput'>log</a> for further details."
     ]
    }
   ],
   "source": [
    "import tensorflow as tf"
   ]
  },
  {
   "cell_type": "code",
   "execution_count": 4,
   "metadata": {},
   "outputs": [
    {
     "data": {
      "text/plain": [
       "'2.8.0'"
      ]
     },
     "execution_count": 4,
     "metadata": {},
     "output_type": "execute_result"
    }
   ],
   "source": [
    "tf.__version__"
   ]
  },
  {
   "cell_type": "code",
   "execution_count": 5,
   "metadata": {},
   "outputs": [],
   "source": [
    "from keras.models import Sequential, load_model, Model"
   ]
  },
  {
   "cell_type": "code",
   "execution_count": 3,
   "metadata": {},
   "outputs": [
    {
     "name": "stdout",
     "output_type": "stream",
     "text": [
      "absl-py @ file:///opt/concourse/worker/volumes/live/40493948-4820-4132-6315-47f078de5faa/volume/absl-py_1623867253094/work\r\n",
      "alabaster==0.7.12\r\n",
      "anaconda-client @ file:///opt/concourse/worker/volumes/live/3ff1c965-b589-43dd-4f46-144911197775/volume/anaconda-client_1624480173150/work\r\n",
      "anaconda-navigator==2.0.4\r\n",
      "anaconda-project @ file:///tmp/build/80754af9/anaconda-project_1626085644852/work\r\n",
      "anyio @ file:///opt/concourse/worker/volumes/live/11270e4f-800a-46ff-4958-786ed8189a0d/volume/anyio_1617783321341/work/dist\r\n",
      "appdirs==1.4.4\r\n",
      "applaunchservices==0.2.1\r\n",
      "appnope @ file:///opt/concourse/worker/volumes/live/8b5bd665-fe9a-4b43-55ab-604475fcb838/volume/appnope_1606859465017/work\r\n",
      "appscript @ file:///opt/concourse/worker/volumes/live/4098baef-9036-4343-7f5c-ba65748f7c94/volume/appscript_1611427003407/work\r\n",
      "argh==0.26.2\r\n",
      "argon2-cffi @ file:///opt/concourse/worker/volumes/live/16540d95-8806-477c-6cbb-b0e3b6176d98/volume/argon2-cffi_1613037494634/work\r\n",
      "asn1crypto @ file:///tmp/build/80754af9/asn1crypto_1596577642040/work\r\n",
      "astor==0.8.1\r\n",
      "astroid @ file:///opt/concourse/worker/volumes/live/7847b66d-b813-4ddd-4992-72d25ce34a7d/volume/astroid_1628063159978/work\r\n",
      "astropy==4.0\r\n",
      "astunparse==1.6.3\r\n",
      "async-generator==1.10\r\n",
      "atomicwrites==1.4.0\r\n",
      "attrs @ file:///tmp/build/80754af9/attrs_1620827162558/work\r\n",
      "autopep8 @ file:///tmp/build/80754af9/autopep8_1620866417880/work\r\n",
      "Babel @ file:///tmp/build/80754af9/babel_1620871417480/work\r\n",
      "backcall @ file:///home/ktietz/src/ci/backcall_1611930011877/work\r\n",
      "backports.shutil-get-terminal-size @ file:///tmp/build/80754af9/backports.shutil_get_terminal_size_1608222128777/work\r\n",
      "beautifulsoup4 @ file:///home/linux1/recipes/ci/beautifulsoup4_1610988766420/work\r\n",
      "bitarray @ file:///opt/concourse/worker/volumes/live/4c39a8bb-25d9-4a8f-50b7-d4fe42b32f6f/volume/bitarray_1629132864825/work\r\n",
      "bkcharts==0.2\r\n",
      "black==19.10b0\r\n",
      "bleach @ file:///tmp/build/80754af9/bleach_1628110601003/work\r\n",
      "bokeh @ file:///opt/concourse/worker/volumes/live/387ef85c-e237-4389-5b7e-afbe4f800f77/volume/bokeh_1620710043781/work\r\n",
      "boto==2.49.0\r\n",
      "Bottleneck==1.3.2\r\n",
      "brotlipy==0.7.0\r\n",
      "CacheControl==0.12.11\r\n",
      "cached-property==1.5.2\r\n",
      "cachetools==4.1.0\r\n",
      "cachy==0.3.0\r\n",
      "certifi==2021.5.30\r\n",
      "cffi @ file:///opt/concourse/worker/volumes/live/6ed3f91b-28f6-4d58-6a9b-7a5e864c6554/volume/cffi_1625814710543/work\r\n",
      "chardet @ file:///opt/concourse/worker/volumes/live/8264bbc9-7371-481f-419c-a9d31a09238b/volume/chardet_1607706837238/work\r\n",
      "cirq==0.9.1\r\n",
      "clang==5.0\r\n",
      "cleo==0.8.1\r\n",
      "click @ file:///tmp/build/80754af9/click_1621604852318/work\r\n",
      "clikit==0.6.2\r\n",
      "cloudpickle @ file:///tmp/build/80754af9/cloudpickle_1598884132938/work\r\n",
      "clyent==1.2.2\r\n",
      "colorama @ file:///tmp/build/80754af9/colorama_1607707115595/work\r\n",
      "conda==4.10.3\r\n",
      "conda-build==3.21.4\r\n",
      "conda-content-trust @ file:///tmp/build/80754af9/conda-content-trust_1617045594566/work\r\n",
      "conda-pack @ file:///tmp/build/80754af9/conda-pack_1611163042455/work\r\n",
      "conda-package-handling @ file:///opt/concourse/worker/volumes/live/d180d59d-429d-4793-7e56-ebcf06e9bbdb/volume/conda-package-handling_1618262142264/work\r\n",
      "conda-repo-cli @ file:///tmp/build/80754af9/conda-repo-cli_1620168426516/work\r\n",
      "conda-token @ file:///tmp/build/80754af9/conda-token_1620076980546/work\r\n",
      "contextlib2==0.6.0.post1\r\n",
      "contextvars==2.4\r\n",
      "coverage @ file:///opt/concourse/worker/volumes/live/aa96dc61-03a4-4f95-77ba-29dfe6dcc93a/volume/coverage_1614614853414/work\r\n",
      "crashtest==0.3.1\r\n",
      "cryptography @ file:///opt/concourse/worker/volumes/live/806790c7-13c6-41bc-7395-be030ef629d2/volume/cryptography_1616769285001/work\r\n",
      "cycler==0.10.0\r\n",
      "Cython @ file:///opt/concourse/worker/volumes/live/2ca4530d-b024-41e5-782d-a93b4e7bf8a8/volume/cython_1626256968955/work\r\n",
      "cytoolz==0.11.0\r\n",
      "dask==2.11.0\r\n",
      "dataclasses @ file:///tmp/build/80754af9/dataclasses_1614363715916/work\r\n",
      "decorator @ file:///home/ktietz/src/ci/decorator_1611930055503/work\r\n",
      "defusedxml @ file:///tmp/build/80754af9/defusedxml_1615228127516/work\r\n",
      "diff-match-patch @ file:///tmp/build/80754af9/diff-match-patch_1594828741838/work\r\n",
      "distlib==0.3.5\r\n",
      "distributed==2.11.0\r\n",
      "docutils @ file:///opt/concourse/worker/volumes/live/50000348-25d1-46cd-6387-121154750d09/volume/docutils_1620827969326/work\r\n",
      "entrypoints==0.3\r\n",
      "et-xmlfile==1.1.0\r\n",
      "fastcache==1.1.0\r\n",
      "filelock==3.4.1\r\n",
      "flake8 @ file:///tmp/build/80754af9/flake8_1620776156532/work\r\n",
      "Flask @ file:///home/ktietz/src/ci/flask_1611932660458/work\r\n",
      "flatbuffers==1.12\r\n",
      "freezegun==0.3.15\r\n",
      "fsspec @ file:///tmp/build/80754af9/fsspec_1626383727127/work\r\n",
      "future==0.18.2\r\n",
      "fuzzywuzzy==0.18.0\r\n",
      "gast==0.4.0\r\n",
      "gevent @ file:///opt/concourse/worker/volumes/live/c41317c0-c6d9-4ddf-48c0-93cec46a2e2e/volume/gevent_1628273689240/work\r\n",
      "glob2 @ file:///home/linux1/recipes/ci/glob2_1610991677669/work\r\n",
      "gmpy2==2.0.8\r\n",
      "google-api-core==1.16.0\r\n",
      "google-api-python-client==1.8.0\r\n",
      "google-auth==1.13.1\r\n",
      "google-auth-httplib2==0.0.3\r\n",
      "google-auth-oauthlib==0.4.1\r\n",
      "google-colab==1.0.0\r\n",
      "google-pasta==0.2.0\r\n",
      "googleapis-common-protos==1.51.0\r\n",
      "greenlet @ file:///opt/concourse/worker/volumes/live/77493bc8-4809-4858-699e-2248d806d291/volume/greenlet_1628888139819/work\r\n",
      "grpcio==1.39.0\r\n",
      "gunicorn==20.1.0\r\n",
      "h5py==3.1.0\r\n",
      "HeapDict==1.0.1\r\n",
      "html5lib @ file:///tmp/build/80754af9/html5lib_1593446221756/work\r\n",
      "httplib2==0.17.1\r\n",
      "hypothesis @ file:///tmp/build/80754af9/hypothesis_1625556361628/work\r\n",
      "idna @ file:///home/linux1/recipes/ci/idna_1610986105248/work\r\n",
      "imageio @ file:///tmp/build/80754af9/imageio_1617700267927/work\r\n",
      "imagesize @ file:///home/ktietz/src/ci/imagesize_1611921604382/work\r\n",
      "immutables @ file:///opt/concourse/worker/volumes/live/f893ef48-90c3-4fd3-46b2-f23ae51ddcc0/volume/immutables_1628889545323/work\r\n",
      "importlib-metadata==1.7.0\r\n",
      "importlib-resources==5.4.0\r\n",
      "iniconfig @ file:///home/linux1/recipes/ci/iniconfig_1610983019677/work\r\n",
      "install==1.3.4\r\n",
      "intervaltree @ file:///tmp/build/80754af9/intervaltree_1598376443606/work\r\n",
      "ipykernel @ file:///opt/concourse/worker/volumes/live/43eaf185-e9cd-4e78-5afa-c19accf1339d/volume/ipykernel_1596206683810/work/dist/ipykernel-5.3.4-py3-none-any.whl\r\n",
      "ipython==7.12.0\r\n",
      "ipython-genutils @ file:///tmp/build/80754af9/ipython_genutils_1606773439826/work\r\n",
      "ipywidgets @ file:///tmp/build/80754af9/ipywidgets_1610481889018/work\r\n",
      "isort @ file:///tmp/build/80754af9/isort_1628603791788/work\r\n",
      "itsdangerous @ file:///tmp/build/80754af9/itsdangerous_1621432558163/work\r\n",
      "jdcal==1.4.1\r\n",
      "jedi==0.14.1\r\n",
      "Jinja2 @ file:///tmp/build/80754af9/jinja2_1612213139570/work\r\n",
      "joblib @ file:///tmp/build/80754af9/joblib_1613502643832/work\r\n",
      "json5 @ file:///tmp/build/80754af9/json5_1624432770122/work\r\n",
      "jsonschema @ file:///tmp/build/80754af9/jsonschema_1602607155483/work\r\n",
      "jupyter==1.0.0\r\n",
      "jupyter-client @ file:///tmp/build/80754af9/jupyter_client_1616770841739/work\r\n",
      "jupyter-console @ file:///tmp/build/80754af9/jupyter_console_1616615302928/work\r\n",
      "jupyter-core @ file:///opt/concourse/worker/volumes/live/8dbe7798-2e90-4723-421b-1972b628e592/volume/jupyter_core_1612213297539/work\r\n",
      "jupyter-server @ file:///opt/concourse/worker/volumes/live/76a0e4ab-c689-45a2-757a-eea6137a01bb/volume/jupyter_server_1616084055692/work\r\n",
      "jupyterlab @ file:///tmp/build/80754af9/jupyterlab_1629124491270/work\r\n",
      "jupyterlab-pygments @ file:///tmp/build/80754af9/jupyterlab_pygments_1601490720602/work\r\n",
      "jupyterlab-server @ file:///tmp/build/80754af9/jupyterlab_server_1629224937070/work\r\n",
      "jupyterlab-widgets @ file:///tmp/build/80754af9/jupyterlab_widgets_1609884341231/work\r\n",
      "keras==2.6.0\r\n",
      "Keras-Applications @ file:///tmp/build/80754af9/keras-applications_1594366238411/work\r\n",
      "Keras-Preprocessing @ file:///tmp/build/80754af9/keras-preprocessing_1612283640596/work\r\n",
      "keyring==22.3.0\r\n",
      "kiwisolver @ file:///opt/concourse/worker/volumes/live/f396cc75-ab93-4292-5463-c41bf6c4bd1a/volume/kiwisolver_1612282405830/work\r\n",
      "lazy-object-proxy @ file:///opt/concourse/worker/volumes/live/34f7b6f0-7e5d-4b28-7c26-d6747b7d340c/volume/lazy-object-proxy_1616529069287/work\r\n",
      "libarchive-c @ file:///tmp/build/80754af9/python-libarchive-c_1617780486945/work\r\n",
      "line-bot-sdk==1.20.0\r\n",
      "llvmlite==0.36.0\r\n",
      "locket==0.2.1\r\n",
      "lockfile==0.12.2\r\n",
      "lxml @ file:///opt/concourse/worker/volumes/live/17ba375d-4c29-49b7-7c01-cd5236ec1e13/volume/lxml_1616443254080/work\r\n",
      "Markdown @ file:///opt/concourse/worker/volumes/live/03d8c644-eb72-4044-78c2-7dbe22b6567f/volume/markdown_1614363827435/work\r\n",
      "MarkupSafe @ file:///opt/concourse/worker/volumes/live/16a820f0-3874-45b4-6b79-5313238ead21/volume/markupsafe_1621528157387/work\r\n",
      "matplotlib @ file:///opt/concourse/worker/volumes/live/41e8cd50-031f-4dda-5787-dd3c4f4e0f08/volume/matplotlib-suite_1613407855571/work\r\n",
      "mccabe==0.6.1\r\n",
      "mistune==0.8.4\r\n",
      "mkl-fft==1.3.0\r\n",
      "mkl-random==1.1.0\r\n",
      "mkl-service==2.3.0\r\n",
      "mock @ file:///tmp/build/80754af9/mock_1607622725907/work\r\n",
      "more-itertools @ file:///tmp/build/80754af9/more-itertools_1622818384463/work\r\n",
      "mpmath==1.2.1\r\n",
      "msgpack @ file:///opt/concourse/worker/volumes/live/b80ecbc7-fd31-425a-5606-b1dc89924ca1/volume/msgpack-python_1612287166513/work\r\n",
      "multipledispatch==0.6.0\r\n",
      "mypy-extensions==0.4.3\r\n",
      "navigator-updater==0.2.1\r\n",
      "nb-conda-kernels @ file:///opt/concourse/worker/volumes/live/da46ff32-ac31-4479-7b52-7310b23dbbc6/volume/nb_conda_kernels_1606775983413/work\r\n",
      "nbclassic @ file:///tmp/build/80754af9/nbclassic_1616085367084/work\r\n",
      "nbclient @ file:///tmp/build/80754af9/nbclient_1614364831625/work\r\n",
      "nbconvert @ file:///opt/concourse/worker/volumes/live/83354520-8b79-4a5c-771c-53c9f422edfc/volume/nbconvert_1601914843271/work\r\n",
      "nbformat @ file:///tmp/build/80754af9/nbformat_1617383369282/work\r\n",
      "nest-asyncio @ file:///tmp/build/80754af9/nest-asyncio_1613680548246/work\r\n",
      "networkx @ file:///tmp/build/80754af9/networkx_1617653298338/work\r\n",
      "nltk @ file:///tmp/build/80754af9/nltk_1621347441292/work\r\n",
      "nose @ file:///tmp/build/80754af9/nose_1606773131901/work\r\n",
      "notebook @ file:///opt/concourse/worker/volumes/live/09cd0e10-b843-4b15-417b-b731d09aaa95/volume/notebook_1629205797948/work\r\n",
      "numba @ file:///opt/concourse/worker/volumes/live/5b1b1d36-748c-47c0-59d5-116d33a74f16/volume/numba_1616774235156/work\r\n",
      "numexpr @ file:///opt/concourse/worker/volumes/live/aee5a1e0-2667-4df9-6158-1011e53b08ab/volume/numexpr_1614798498050/work\r\n",
      "numpy==1.19.5\r\n",
      "numpydoc @ file:///tmp/build/80754af9/numpydoc_1605117425582/work\r\n",
      "oauth2client==4.1.3\r\n",
      "oauthlib==3.1.0\r\n",
      "olefile==0.46\r\n",
      "openpyxl @ file:///tmp/build/80754af9/openpyxl_1615411699337/work\r\n",
      "opt-einsum==3.3.0\r\n",
      "packaging==20.9\r\n",
      "pandas==1.0.1\r\n",
      "pandocfilters @ file:///opt/concourse/worker/volumes/live/b9c0ff3b-1a27-4501-4e51-2ed36ae5b9e2/volume/pandocfilters_1605120446902/work\r\n",
      "parso==0.5.2\r\n",
      "partd @ file:///tmp/build/80754af9/partd_1618000087440/work\r\n",
      "pastel==0.2.1\r\n",
      "path @ file:///opt/concourse/worker/volumes/live/bdd02984-d8ba-462d-6173-d2788faf1b66/volume/path_1623603897865/work\r\n",
      "pathlib2 @ file:///opt/concourse/worker/volumes/live/2b29c881-5abd-4bc8-6728-1991282952cf/volume/pathlib2_1625585692982/work\r\n",
      "pathspec==0.7.0\r\n",
      "pathtools==0.1.2\r\n",
      "patsy==0.5.1\r\n",
      "pbr==5.10.0\r\n",
      "pep8==1.7.1\r\n",
      "pexpect @ file:///tmp/build/80754af9/pexpect_1605563209008/work\r\n",
      "pickleshare @ file:///tmp/build/80754af9/pickleshare_1606932040724/work\r\n",
      "Pillow @ file:///opt/concourse/worker/volumes/live/516b2492-3bc8-4336-694b-cc677c18a0f6/volume/pillow_1625655827757/work\r\n",
      "pkginfo==1.7.1\r\n",
      "platformdirs==2.4.0\r\n",
      "plotly==5.9.0\r\n",
      "pluggy @ file:///opt/concourse/worker/volumes/live/409bfc5e-d287-4b42-6a80-4c27c39d0877/volume/pluggy_1615976308666/work\r\n",
      "ply==3.11\r\n",
      "poetry-core==1.0.8\r\n",
      "portpicker==1.2.0\r\n",
      "prometheus-client @ file:///tmp/build/80754af9/prometheus_client_1623189609245/work\r\n",
      "prompt-toolkit @ file:///tmp/build/80754af9/prompt-toolkit_1616415428029/work\r\n",
      "protobuf==3.17.2\r\n",
      "psutil @ file:///opt/concourse/worker/volumes/live/b7b330bc-c1c6-4c30-580a-0a0cc9db28ef/volume/psutil_1612298008573/work\r\n",
      "ptyprocess @ file:///tmp/build/80754af9/ptyprocess_1609355006118/work/dist/ptyprocess-0.7.0-py2.py3-none-any.whl\r\n",
      "py @ file:///tmp/build/80754af9/py_1607971587848/work\r\n",
      "pyasn1==0.4.8\r\n",
      "pyasn1-modules==0.2.8\r\n",
      "pybinding==0.9.5\r\n",
      "pycodestyle @ file:///tmp/build/80754af9/pycodestyle_1615748559966/work\r\n",
      "pycosat==0.6.3\r\n",
      "pycparser @ file:///tmp/build/80754af9/pycparser_1594388511720/work\r\n",
      "pycrypto==2.6.1\r\n",
      "pycurl==7.43.0.6\r\n",
      "pydocstyle @ file:///tmp/build/80754af9/pydocstyle_1621600989141/work\r\n",
      "PyDrive==1.3.1\r\n",
      "pyflakes @ file:///tmp/build/80754af9/pyflakes_1617200973297/work\r\n",
      "Pygments @ file:///tmp/build/80754af9/pygments_1629234116488/work\r\n",
      "pylev==1.4.0\r\n",
      "pylint @ file:///opt/concourse/worker/volumes/live/5aebc609-d494-4328-61fc-c8762ab8656c/volume/pylint_1627536799145/work\r\n",
      "pyodbc===4.0.0-unsupported\r\n",
      "pyOpenSSL @ file:///tmp/build/80754af9/pyopenssl_1608057966937/work\r\n",
      "pyparsing @ file:///home/linux1/recipes/ci/pyparsing_1610983426697/work\r\n",
      "pyrsistent @ file:///opt/concourse/worker/volumes/live/d7ed6755-1956-4a16-5499-c03638db758d/volume/pyrsistent_1600141722278/work\r\n",
      "PySocks @ file:///opt/concourse/worker/volumes/live/286ddfa9-f2fd-40b3-4c68-b14dbfd7c9fa/volume/pysocks_1605305809963/work\r\n",
      "pytest==6.2.4\r\n",
      "pytest-arraydiff==0.3\r\n",
      "pytest-astropy @ file:///home/ktietz/src/ci_ipy2/pytest-astropy_1612520838567/work\r\n",
      "pytest-astropy-header @ file:///home/ktietz/src/ci_ipy2/pytest-astropy-header_1612520851504/work\r\n",
      "pytest-doctestplus @ file:///tmp/build/80754af9/pytest-doctestplus_1610738947464/work\r\n",
      "pytest-openfiles @ file:///home/ktietz/src/ci_ipy2/pytest-openfiles_1612521034591/work\r\n",
      "pytest-remotedata==0.3.2\r\n",
      "python-dateutil @ file:///tmp/build/80754af9/python-dateutil_1626374649649/work\r\n",
      "python-dotenv==0.20.0\r\n",
      "python-jsonrpc-server==0.3.4\r\n",
      "python-language-server==0.31.7\r\n",
      "python-Levenshtein==0.12.2\r\n",
      "pytz @ file:///tmp/build/80754af9/pytz_1612215392582/work\r\n",
      "PyWavelets @ file:///opt/concourse/worker/volumes/live/7b9ed5cc-fdd2-4389-679d-2674cfabb40a/volume/pywavelets_1601658333093/work\r\n",
      "PyYAML==5.4.1\r\n",
      "pyzmq @ file:///opt/concourse/worker/volumes/live/9d7ac74a-c2e0-4f27-6bc8-960d9f4f8edf/volume/pyzmq_1628276025927/work\r\n",
      "QDarkStyle @ file:///tmp/build/80754af9/qdarkstyle_1617386714626/work\r\n",
      "QtAwesome @ file:///tmp/build/80754af9/qtawesome_1615991616277/work\r\n",
      "qtconsole @ file:///tmp/build/80754af9/qtconsole_1623278325812/work\r\n",
      "QtPy==1.9.0\r\n",
      "regex @ file:///opt/concourse/worker/volumes/live/bb3c765f-1198-43fb-7d54-0f944c2cd073/volume/regex_1629302103632/work\r\n",
      "requests @ file:///tmp/build/80754af9/requests_1608241421344/work\r\n",
      "requests-oauthlib==1.3.0\r\n",
      "requests-toolbelt==0.9.1\r\n",
      "rope @ file:///tmp/build/80754af9/rope_1623703006312/work\r\n",
      "rsa==4.0\r\n",
      "Rtree @ file:///opt/concourse/worker/volumes/live/6a237633-b901-4775-4c12-9d387f981643/volume/rtree_1618420833446/work\r\n",
      "ruamel-yaml-conda @ file:///opt/concourse/worker/volumes/live/3691cad8-1bba-497e-4109-460bac08a255/volume/ruamel_yaml_1616016694353/work\r\n",
      "scikit-image==0.16.2\r\n",
      "scikit-learn @ file:///opt/concourse/worker/volumes/live/7b55aa24-f99a-451d-4bd5-ccdd895045b7/volume/scikit-learn_1621370398109/work\r\n",
      "scipy==1.4.1\r\n",
      "seaborn @ file:///tmp/build/80754af9/seaborn_1629307859561/work\r\n",
      "Send2Trash @ file:///tmp/build/80754af9/send2trash_1607525499227/work\r\n",
      "shellingham==1.4.0\r\n",
      "simplegeneric==0.8.1\r\n",
      "singledispatch @ file:///tmp/build/80754af9/singledispatch_1629321204894/work\r\n",
      "six==1.15.0\r\n",
      "sniffio @ file:///opt/concourse/worker/volumes/live/dc6540d5-d03a-4e11-5711-bc516ea18b9b/volume/sniffio_1614030462454/work\r\n",
      "snowballstemmer @ file:///tmp/build/80754af9/snowballstemmer_1611258885636/work\r\n",
      "sortedcollections @ file:///tmp/build/80754af9/sortedcollections_1611172717284/work\r\n",
      "sortedcontainers @ file:///tmp/build/80754af9/sortedcontainers_1623949099177/work\r\n",
      "soupsieve @ file:///tmp/build/80754af9/soupsieve_1616183228191/work\r\n",
      "Sphinx @ file:///tmp/build/80754af9/sphinx_1623884544367/work\r\n",
      "sphinxcontrib-applehelp @ file:///home/ktietz/src/ci/sphinxcontrib-applehelp_1611920841464/work\r\n",
      "sphinxcontrib-devhelp @ file:///home/ktietz/src/ci/sphinxcontrib-devhelp_1611920923094/work\r\n",
      "sphinxcontrib-htmlhelp @ file:///tmp/build/80754af9/sphinxcontrib-htmlhelp_1623945626792/work\r\n",
      "sphinxcontrib-jsmath @ file:///home/ktietz/src/ci/sphinxcontrib-jsmath_1611920942228/work\r\n",
      "sphinxcontrib-qthelp @ file:///home/ktietz/src/ci/sphinxcontrib-qthelp_1611921055322/work\r\n",
      "sphinxcontrib-serializinghtml @ file:///tmp/build/80754af9/sphinxcontrib-serializinghtml_1624451540180/work\r\n",
      "sphinxcontrib-websupport @ file:///tmp/build/80754af9/sphinxcontrib-websupport_1597081412696/work\r\n",
      "spirit==1.8.6\r\n",
      "spyder==4.0.1\r\n",
      "spyder-kernels==1.8.1\r\n",
      "SQLAlchemy @ file:///opt/concourse/worker/volumes/live/bf685c4d-1504-43c6-7f03-9ed98c67e487/volume/sqlalchemy_1626948436309/work\r\n",
      "statsmodels @ file:///opt/concourse/worker/volumes/live/e89acda0-29d5-4966-6748-7326a05de9fa/volume/statsmodels_1614023738050/work\r\n",
      "stevedore==3.5.0\r\n",
      "sympy @ file:///opt/concourse/worker/volumes/live/d0452f3b-7c33-4187-58c2-a0930a412558/volume/sympy_1618255305292/work\r\n",
      "tables==3.6.1\r\n",
      "tblib @ file:///tmp/build/80754af9/tblib_1597928476713/work\r\n",
      "tenacity==8.0.1\r\n",
      "tensorboard==2.6.0\r\n",
      "tensorboard-data-server==0.6.1\r\n",
      "tensorboard-plugin-wit==1.8.0\r\n",
      "tensorflow==2.6.0\r\n",
      "tensorflow-estimator==2.6.0\r\n",
      "tensorflow-quantum==0.4.0\r\n",
      "termcolor==1.1.0\r\n",
      "terminado==0.9.4\r\n",
      "testpath @ file:///tmp/build/80754af9/testpath_1624638946665/work\r\n",
      "threadpoolctl @ file:///Users/ktietz/demo/mc3/conda-bld/threadpoolctl_1628668762525/work\r\n",
      "toml @ file:///tmp/build/80754af9/toml_1616166611790/work\r\n",
      "tomlkit==0.11.1\r\n",
      "toolz @ file:///home/linux1/recipes/ci/toolz_1610987900194/work\r\n",
      "tornado @ file:///opt/concourse/worker/volumes/live/cd39df49-5c81-4c95-513c-5bb83298b7ef/volume/tornado_1606942310103/work\r\n",
      "tqdm @ file:///tmp/build/80754af9/tqdm_1629302309755/work\r\n",
      "traitlets==4.3.3\r\n",
      "typed-ast @ file:///opt/concourse/worker/volumes/live/e71d1be0-9775-4fa4-4c69-bb5423fcc84f/volume/typed-ast_1624953679099/work\r\n",
      "typing-extensions==3.7.4.3\r\n",
      "ujson==1.35\r\n",
      "unicodecsv==0.14.1\r\n",
      "uritemplate==3.0.1\r\n",
      "urllib3 @ file:///tmp/build/80754af9/urllib3_1625084269274/work\r\n",
      "virtualenv==20.15.1\r\n",
      "virtualenv-clone==0.5.7\r\n",
      "virtualenvwrapper==4.8.4\r\n",
      "watchdog @ file:///opt/concourse/worker/volumes/live/f6f78e3f-9d31-48fa-55d0-44c10ccf9b2f/volume/watchdog_1624955014479/work\r\n",
      "wcwidth @ file:///tmp/build/80754af9/wcwidth_1593447189090/work\r\n",
      "webencodings==0.5.1\r\n",
      "Werkzeug @ file:///home/ktietz/src/ci/werkzeug_1611932622770/work\r\n",
      "widgetsnbextension==3.5.1\r\n",
      "wrapt==1.12.1\r\n",
      "wurlitzer @ file:///opt/concourse/worker/volumes/live/2ba252f5-2674-4572-69b8-03ff598d144c/volume/wurlitzer_1626947807039/work\r\n",
      "xlrd @ file:///tmp/build/80754af9/xlrd_1608072521494/work\r\n",
      "XlsxWriter @ file:///tmp/build/80754af9/xlsxwriter_1628603415431/work\r\n",
      "xlwings==0.24.7\r\n",
      "xlwt==1.2.0\r\n",
      "xmltodict==0.12.0\r\n",
      "\r\n",
      "yapf @ file:///tmp/build/80754af9/yapf_1615749224965/work\r\n",
      "zict==2.0.0\r\n",
      "zipp @ file:///tmp/build/80754af9/zipp_1625570634446/work\r\n",
      "zope.event==4.5.0\r\n",
      "zope.interface @ file:///opt/concourse/worker/volumes/live/66855bea-0c13-4b34-5225-ad93cd3c26d5/volume/zope.interface_1625036171977/work\r\n"
     ]
    },
    {
     "name": "stdout",
     "output_type": "stream",
     "text": [
      "Note: you may need to restart the kernel to use updated packages.\n"
     ]
    }
   ],
   "source": [
    "pip freeze"
   ]
  },
  {
   "cell_type": "code",
   "execution_count": 5,
   "metadata": {},
   "outputs": [
    {
     "ename": "ModuleNotFoundError",
     "evalue": "No module named 'librosa'",
     "output_type": "error",
     "traceback": [
      "\u001b[0;31m---------------------------------------------------------------------------\u001b[0m",
      "\u001b[0;31mModuleNotFoundError\u001b[0m                       Traceback (most recent call last)",
      "\u001b[0;32m<ipython-input-5-ab03e7fa9ad4>\u001b[0m in \u001b[0;36m<module>\u001b[0;34m\u001b[0m\n\u001b[1;32m      2\u001b[0m \u001b[0;32mimport\u001b[0m \u001b[0mos\u001b[0m\u001b[0;34m\u001b[0m\u001b[0;34m\u001b[0m\u001b[0m\n\u001b[1;32m      3\u001b[0m \u001b[0;32mimport\u001b[0m \u001b[0mglob\u001b[0m\u001b[0;34m\u001b[0m\u001b[0;34m\u001b[0m\u001b[0m\n\u001b[0;32m----> 4\u001b[0;31m \u001b[0;32mimport\u001b[0m \u001b[0mlibrosa\u001b[0m\u001b[0;34m\u001b[0m\u001b[0;34m\u001b[0m\u001b[0m\n\u001b[0m\u001b[1;32m      5\u001b[0m \u001b[0;32mimport\u001b[0m \u001b[0mrandom\u001b[0m\u001b[0;34m\u001b[0m\u001b[0;34m\u001b[0m\u001b[0m\n\u001b[1;32m      6\u001b[0m \u001b[0;32mimport\u001b[0m \u001b[0mmath\u001b[0m\u001b[0;34m\u001b[0m\u001b[0;34m\u001b[0m\u001b[0m\n",
      "\u001b[0;31mModuleNotFoundError\u001b[0m: No module named 'librosa'"
     ]
    }
   ],
   "source": [
    "import numpy as np\n",
    "import os\n",
    "import glob\n",
    "import librosa\n",
    "import random\n",
    "import math\n",
    "import matplotlib.pyplot as plt"
   ]
  },
  {
   "cell_type": "code",
   "execution_count": null,
   "metadata": {},
   "outputs": [],
   "source": [
    "import tensorflow as tf"
   ]
  },
  {
   "cell_type": "code",
   "execution_count": null,
   "metadata": {},
   "outputs": [
    {
     "ename": "",
     "evalue": "",
     "output_type": "error",
     "traceback": [
      "\u001b[1;31mCanceled future for execute_request message before replies were done"
     ]
    },
    {
     "ename": "",
     "evalue": "",
     "output_type": "error",
     "traceback": [
      "\u001b[1;31mThe Kernel crashed while executing code in the the current cell or a previous cell. Please review the code in the cell(s) to identify a possible cause of the failure. Click <a href='https://aka.ms/vscodeJupyterKernelCrash'>here</a> for more info. View Jupyter <a href='command:jupyter.viewOutput'>log</a> for further details."
     ]
    }
   ],
   "source": [
    "from keras.models import Sequential, load_model, Model"
   ]
  },
  {
   "cell_type": "code",
   "execution_count": 2,
   "metadata": {},
   "outputs": [
    {
     "ename": "",
     "evalue": "",
     "output_type": "error",
     "traceback": [
      "\u001b[1;31mCanceled future for execute_request message before replies were done"
     ]
    },
    {
     "ename": "",
     "evalue": "",
     "output_type": "error",
     "traceback": [
      "\u001b[1;31mThe Kernel crashed while executing code in the the current cell or a previous cell. Please review the code in the cell(s) to identify a possible cause of the failure. Click <a href='https://aka.ms/vscodeJupyterKernelCrash'>here</a> for more info. View Jupyter <a href='command:jupyter.viewOutput'>log</a> for further details."
     ]
    }
   ],
   "source": [
    "import numpy as np\n",
    "import os\n",
    "import glob\n",
    "import librosa\n",
    "import random\n",
    "import math\n",
    "import matplotlib.pyplot as plt\n",
    "from keras.models import Sequential, load_model, Model\n",
    "from keras.utils import Sequence\n",
    "from keras.utils import np_utils"
   ]
  },
  {
   "cell_type": "code",
   "execution_count": 1,
   "metadata": {},
   "outputs": [
    {
     "name": "stdout",
     "output_type": "stream",
     "text": [
      "tensorflow==2.10.0\n",
      "tensorflow-datasets==4.4.0\n",
      "tensorflow-estimator==2.10.0\n",
      "tensorflow-io-gcs-filesystem==0.27.0\n",
      "tensorflow-macos==2.8.0\n",
      "tensorflow-metadata==1.5.0\n",
      "Note: you may need to restart the kernel to use updated packages.\n"
     ]
    }
   ],
   "source": [
    "pip freeze | grep tensorflow"
   ]
  },
  {
   "cell_type": "code",
   "execution_count": null,
   "metadata": {},
   "outputs": [],
   "source": []
  }
 ],
 "metadata": {
  "kernelspec": {
   "display_name": "Python 3.8.12 64-bit ('speech_annotation_env')",
   "language": "python",
   "name": "python3"
  },
  "language_info": {
   "codemirror_mode": {
    "name": "ipython",
    "version": 3
   },
   "file_extension": ".py",
   "mimetype": "text/x-python",
   "name": "python",
   "nbconvert_exporter": "python",
   "pygments_lexer": "ipython3",
   "version": "3.8.12"
  },
  "toc": {
   "base_numbering": 1,
   "nav_menu": {},
   "number_sections": true,
   "sideBar": true,
   "skip_h1_title": false,
   "title_cell": "Table of Contents",
   "title_sidebar": "Contents",
   "toc_cell": false,
   "toc_position": {},
   "toc_section_display": true,
   "toc_window_display": false
  },
  "vscode": {
   "interpreter": {
    "hash": "7fbe4b5f768af76a363350f8c0f39266dcee86ec3263ac02d393ac8ef85b3ed7"
   }
  }
 },
 "nbformat": 4,
 "nbformat_minor": 2
}
